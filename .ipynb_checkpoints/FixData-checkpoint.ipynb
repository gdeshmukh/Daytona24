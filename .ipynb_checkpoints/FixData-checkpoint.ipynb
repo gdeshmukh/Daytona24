{
 "cells": [
  {
   "cell_type": "code",
   "execution_count": 1,
   "metadata": {},
   "outputs": [],
   "source": [
    "import pandas as pd\n",
    "from datetime import datetime, timedelta, date\n",
    "from collections import defaultdict\n",
    "import json"
   ]
  },
  {
   "cell_type": "code",
   "execution_count": 2,
   "metadata": {},
   "outputs": [],
   "source": [
    "df = pd.read_csv('./data/2020_jan.csv')"
   ]
  },
  {
   "cell_type": "code",
   "execution_count": 3,
   "metadata": {},
   "outputs": [],
   "source": [
    "new_times_lap = []\n",
    "for index, time in df['Lap Time'].iteritems():\n",
    "    if time.count(':') == 1:\n",
    "        new_times_lap.append(datetime.strptime(time, '%M:%S.%f'))\n",
    "    else:\n",
    "        new_times_lap.append(datetime.strptime(time, '%H:%M:%S.%f'))\n",
    "df['Lap Times'] = new_times_lap"
   ]
  },
  {
   "cell_type": "code",
   "execution_count": 4,
   "metadata": {},
   "outputs": [],
   "source": [
    "new_times_s = []\n",
    "date_index = 100000\n",
    "for index, time in df['Session Time'].iteritems():\n",
    "    if time.startswith('24') and time.count(':') > 1:\n",
    "        date_index = index\n",
    "        new_time = '01:00' + time[2:]\n",
    "        new_date = datetime.strptime(new_time, '%d:%H:%M:%S.%f')\n",
    "        new_date_plus = new_date + timedelta(days=1)\n",
    "        new_times_s.append(new_date_plus)\n",
    "    elif index > date_index:\n",
    "        new_time = '01:00:0' + time\n",
    "        new_date = datetime.strptime(new_time, '%d:%H:%M:%S.%f')\n",
    "        new_date_plus = new_date + timedelta(days=1)\n",
    "        new_times_s.append(new_date_plus)\n",
    "    elif time.count(':') == 1:\n",
    "        new_times_s.append(datetime.strptime(time, '%M:%S.%f'))\n",
    "    else:\n",
    "        new_times_s.append(datetime.strptime(time, '%H:%M:%S.%f'))\n",
    "df['Session Times'] = new_times_s"
   ]
  },
  {
   "cell_type": "code",
   "execution_count": 5,
   "metadata": {},
   "outputs": [],
   "source": [
    "df['Prev Session Time'] = df['Session Times'].subtract(df['Lap Times'])"
   ]
  },
  {
   "cell_type": "code",
   "execution_count": 6,
   "metadata": {},
   "outputs": [],
   "source": [
    "for i in range(1,14):\n",
    "    num_str = str(i)\n",
    "    if i < 10: num_str = '0' + num_str\n",
    "    num_str = 'S' + num_str\n",
    "    \n",
    "    vals = []\n",
    "    for ind, split_time in df[num_str].iteritems():\n",
    "        vals.append(timedelta(seconds=split_time))\n",
    "    df[num_str] = vals\n",
    "    totals = df[num_str] + df['Prev Session Time']\n",
    "    \n",
    "    for j in range(i-1, 0, -1):\n",
    "        new_num_str = str(j)\n",
    "        if j < 10: new_num_str = '0' + new_num_str\n",
    "        new_num_str = 'S' + new_num_str\n",
    "        totals += df[new_num_str]\n",
    "    df[num_str+'totals'] = totals"
   ]
  },
  {
   "cell_type": "code",
   "execution_count": 8,
   "metadata": {},
   "outputs": [],
   "source": [
    "df.to_csv('./data/2020_jan_mod.csv', index=False)"
   ]
  },
  {
   "cell_type": "code",
   "execution_count": null,
   "metadata": {},
   "outputs": [],
   "source": []
  }
 ],
 "metadata": {
  "kernelspec": {
   "display_name": "Python 3",
   "language": "python",
   "name": "python3"
  },
  "language_info": {
   "codemirror_mode": {
    "name": "ipython",
    "version": 3
   },
   "file_extension": ".py",
   "mimetype": "text/x-python",
   "name": "python",
   "nbconvert_exporter": "python",
   "pygments_lexer": "ipython3",
   "version": "3.7.6"
  }
 },
 "nbformat": 4,
 "nbformat_minor": 4
}
