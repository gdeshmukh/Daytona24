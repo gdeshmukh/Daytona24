{
 "cells": [
  {
   "cell_type": "code",
   "execution_count": 2,
   "metadata": {},
   "outputs": [],
   "source": [
    "import pandas as pd\n",
    "from datetime import datetime, timedelta, date\n",
    "from collections import defaultdict\n",
    "import json"
   ]
  },
  {
   "cell_type": "code",
   "execution_count": 5,
   "metadata": {},
   "outputs": [],
   "source": [
    "df = pd.read_csv('./data/2020_jan_mod.csv')"
   ]
  },
  {
   "cell_type": "code",
   "execution_count": 10,
   "metadata": {},
   "outputs": [
    {
     "data": {
      "text/plain": [
       "'4:43:31.358'"
      ]
     },
     "execution_count": 10,
     "metadata": {},
     "output_type": "execute_result"
    }
   ],
   "source": [
    "flag_times = []\n",
    "green_flag = True\n",
    "for index, row in df.iterrows():\n",
    "    if row.Flag == 'Green':\n",
    "        green_flag = True\n",
    "    elif green_flag and row.Flag == 'Yellow':\n",
    "        flag_times.append(row['Session Time'])\n",
    "        green_flag = False\n"
   ]
  },
  {
   "cell_type": "code",
   "execution_count": 11,
   "metadata": {},
   "outputs": [
    {
     "data": {
      "text/plain": [
       "str"
      ]
     },
     "execution_count": 11,
     "metadata": {},
     "output_type": "execute_result"
    }
   ],
   "source": []
  },
  {
   "cell_type": "code",
   "execution_count": 20,
   "metadata": {},
   "outputs": [],
   "source": [
    "section = defaultdict(lambda: defaultdict(list))\n",
    "for index, row in df.iterrows():\n",
    "    section[row['Driver']]['S01'].append((row['Prev Session Time'].total_seconds(), row['S01totals'].total_seconds()))\n",
    "    section[row['Driver']]['S02'].append((row['S01totals'].total_seconds(), row['S02totals'].total_seconds()))\n",
    "    section[row['Driver']]['S03'].append((row['S02totals'].total_seconds(), row['S03totals'].total_seconds()))\n",
    "    section[row['Driver']]['S04'].append((row['S03totals'].total_seconds(), row['S04totals'].total_seconds()))\n",
    "    section[row['Driver']]['S05'].append((row['S04totals'].total_seconds(), row['S05totals'].total_seconds()))\n",
    "    section[row['Driver']]['S06'].append((row['S05totals'].total_seconds(), row['S06totals'].total_seconds()))\n",
    "    section[row['Driver']]['S07'].append((row['S06totals'].total_seconds(), row['S07totals'].total_seconds()))\n",
    "    section[row['Driver']]['S08'].append((row['S07totals'].total_seconds(), row['S08totals'].total_seconds()))\n",
    "    section[row['Driver']]['S09'].append((row['S08totals'].total_seconds(), row['S09totals'].total_seconds()))\n",
    "    section[row['Driver']]['S10'].append((row['S09totals'].total_seconds(), row['S10totals'].total_seconds()))\n",
    "    section[row['Driver']]['S11'].append((row['S10totals'].total_seconds(), row['S11totals'].total_seconds()))\n",
    "    section[row['Driver']]['S12'].append((row['S11totals'].total_seconds(), row['S12totals'].total_seconds()))\n",
    "    section[row['Driver']]['S13'].append((row['S12totals'].total_seconds(), row['S13totals'].total_seconds()))"
   ]
  },
  {
   "cell_type": "code",
   "execution_count": 25,
   "metadata": {},
   "outputs": [],
   "source": [
    "with open('section.json', 'w') as outfile:\n",
    "    json.dump(section, outfile)"
   ]
  },
  {
   "cell_type": "code",
   "execution_count": 11,
   "metadata": {},
   "outputs": [],
   "source": [
    "section_mod = defaultdict(list)\n",
    "for index, row in df.iterrows():\n",
    "    section_mod[row['Driver']].append((1, row['Prev Session Time'].total_seconds(), row['S01totals'].total_seconds(), row.SPI))\n",
    "    section_mod[row['Driver']].append((2, row['S01totals'].total_seconds(), row['S02totals'].total_seconds(), row.SPI))\n",
    "    section_mod[row['Driver']].append((3, row['S02totals'].total_seconds(), row['S03totals'].total_seconds(), row.SPI))\n",
    "    section_mod[row['Driver']].append((4, row['S03totals'].total_seconds(), row['S04totals'].total_seconds(), row.SPI))\n",
    "    section_mod[row['Driver']].append((5, row['S04totals'].total_seconds(), row['S05totals'].total_seconds(), row.SPI))\n",
    "    section_mod[row['Driver']].append((6, row['S05totals'].total_seconds(), row['S06totals'].total_seconds(), row.SPI))\n",
    "    section_mod[row['Driver']].append((7, row['S06totals'].total_seconds(), row['S07totals'].total_seconds(), row.SPI))\n",
    "    section_mod[row['Driver']].append((8, row['S07totals'].total_seconds(), row['S08totals'].total_seconds(), row.SPI))\n",
    "    section_mod[row['Driver']].append((9, row['S08totals'].total_seconds(), row['S09totals'].total_seconds(), row.SPI))\n",
    "    section_mod[row['Driver']].append((10, row['S09totals'].total_seconds(), row['S10totals'].total_seconds(), row.SPI))\n",
    "    section_mod[row['Driver']].append((11, row['S10totals'].total_seconds(), row['S11totals'].total_seconds(), row.SPI))\n",
    "    section_mod[row['Driver']].append((12, row['S11totals'].total_seconds(), row['S12totals'].total_seconds(), row.SPI))\n",
    "    section_mod[row['Driver']].append((13, row['S12totals'].total_seconds(), row['S13totals'].total_seconds(), row.SPI))"
   ]
  },
  {
   "cell_type": "code",
   "execution_count": 15,
   "metadata": {},
   "outputs": [],
   "source": [
    "MAXTIME = df['S13totals'].max().total_seconds()\n",
    "def roundTo(x, base=20):\n",
    "    return base * round(x/base)\n",
    "MAXTIME = roundTo(MAXTIME, 20)"
   ]
  },
  {
   "cell_type": "code",
   "execution_count": 16,
   "metadata": {},
   "outputs": [],
   "source": [
    "num_drivers = defaultdict(lambda: defaultdict(list))\n",
    "for t in range(20, MAXTIME, 20):\n",
    "    for driver in section_mod:\n",
    "        for interval in section_mod[driver]:\n",
    "            if interval[1] <= t <= interval[2]:\n",
    "                num_drivers[t][interval[0]].append((interval[1], interval[2], interval[3]))\n",
    "                break\n"
   ]
  },
  {
   "cell_type": "code",
   "execution_count": 46,
   "metadata": {},
   "outputs": [],
   "source": [
    "with open('20_count_wspeed.json', 'w') as outfile:\n",
    "    json.dump(num_drivers, outfile)"
   ]
  },
  {
   "cell_type": "code",
   "execution_count": null,
   "metadata": {},
   "outputs": [],
   "source": []
  }
 ],
 "metadata": {
  "kernelspec": {
   "display_name": "Python 3",
   "language": "python",
   "name": "python3"
  },
  "language_info": {
   "codemirror_mode": {
    "name": "ipython",
    "version": 3
   },
   "file_extension": ".py",
   "mimetype": "text/x-python",
   "name": "python",
   "nbconvert_exporter": "python",
   "pygments_lexer": "ipython3",
   "version": "3.7.6"
  }
 },
 "nbformat": 4,
 "nbformat_minor": 4
}
